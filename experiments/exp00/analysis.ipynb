{
 "cells": [
  {
   "cell_type": "code",
   "execution_count": 1,
   "id": "58e8d356-ab4e-45ae-a16c-429ebeb07b5c",
   "metadata": {},
   "outputs": [],
   "source": [
    "import pandas as pd\n",
    "import matplotlib.pyplot as plt\n",
    "import numpy as np"
   ]
  },
  {
   "cell_type": "code",
   "execution_count": 2,
   "id": "e2977669-6809-4cd1-82f0-477da88d7599",
   "metadata": {},
   "outputs": [
    {
     "data": {
      "text/html": [
       "<div>\n",
       "<style scoped>\n",
       "    .dataframe tbody tr th:only-of-type {\n",
       "        vertical-align: middle;\n",
       "    }\n",
       "\n",
       "    .dataframe tbody tr th {\n",
       "        vertical-align: top;\n",
       "    }\n",
       "\n",
       "    .dataframe thead th {\n",
       "        text-align: right;\n",
       "    }\n",
       "</style>\n",
       "<table border=\"1\" class=\"dataframe\">\n",
       "  <thead>\n",
       "    <tr style=\"text-align: right;\">\n",
       "      <th></th>\n",
       "      <th>Unnamed: 0</th>\n",
       "      <th>date</th>\n",
       "      <th>party</th>\n",
       "      <th>Topic0</th>\n",
       "      <th>Topic1</th>\n",
       "      <th>Topic2</th>\n",
       "      <th>Topic3</th>\n",
       "      <th>Topic4</th>\n",
       "      <th>Topic5</th>\n",
       "      <th>Topic6</th>\n",
       "      <th>Topic7</th>\n",
       "      <th>Topic8</th>\n",
       "    </tr>\n",
       "    <tr>\n",
       "      <th>id</th>\n",
       "      <th></th>\n",
       "      <th></th>\n",
       "      <th></th>\n",
       "      <th></th>\n",
       "      <th></th>\n",
       "      <th></th>\n",
       "      <th></th>\n",
       "      <th></th>\n",
       "      <th></th>\n",
       "      <th></th>\n",
       "      <th></th>\n",
       "      <th></th>\n",
       "    </tr>\n",
       "  </thead>\n",
       "  <tbody>\n",
       "    <tr>\n",
       "      <th>DE-0190001007</th>\n",
       "      <td>0</td>\n",
       "      <td>2017-10-24</td>\n",
       "      <td>DIE LINKE</td>\n",
       "      <td>0.000540</td>\n",
       "      <td>0.072428</td>\n",
       "      <td>0.000540</td>\n",
       "      <td>0.000540</td>\n",
       "      <td>0.723960</td>\n",
       "      <td>0.182041</td>\n",
       "      <td>0.018873</td>\n",
       "      <td>0.000540</td>\n",
       "      <td>0.000540</td>\n",
       "    </tr>\n",
       "    <tr>\n",
       "      <th>DE-0190001008</th>\n",
       "      <td>1</td>\n",
       "      <td>2017-10-24</td>\n",
       "      <td>CDU/CSU</td>\n",
       "      <td>0.000505</td>\n",
       "      <td>0.000505</td>\n",
       "      <td>0.029021</td>\n",
       "      <td>0.000505</td>\n",
       "      <td>0.967441</td>\n",
       "      <td>0.000505</td>\n",
       "      <td>0.000505</td>\n",
       "      <td>0.000506</td>\n",
       "      <td>0.000505</td>\n",
       "    </tr>\n",
       "    <tr>\n",
       "      <th>DE-0190001010</th>\n",
       "      <td>2</td>\n",
       "      <td>2017-10-24</td>\n",
       "      <td>BÜNDNIS 90/DIE GRÜNEN</td>\n",
       "      <td>0.000520</td>\n",
       "      <td>0.000519</td>\n",
       "      <td>0.028013</td>\n",
       "      <td>0.000519</td>\n",
       "      <td>0.968350</td>\n",
       "      <td>0.000520</td>\n",
       "      <td>0.000520</td>\n",
       "      <td>0.000519</td>\n",
       "      <td>0.000519</td>\n",
       "    </tr>\n",
       "    <tr>\n",
       "      <th>DE-0190002005</th>\n",
       "      <td>3</td>\n",
       "      <td>2017-11-21</td>\n",
       "      <td>CDU/CSU</td>\n",
       "      <td>0.000678</td>\n",
       "      <td>0.069938</td>\n",
       "      <td>0.000678</td>\n",
       "      <td>0.000678</td>\n",
       "      <td>0.925317</td>\n",
       "      <td>0.000678</td>\n",
       "      <td>0.000678</td>\n",
       "      <td>0.000678</td>\n",
       "      <td>0.000678</td>\n",
       "    </tr>\n",
       "    <tr>\n",
       "      <th>DE-0190002015</th>\n",
       "      <td>4</td>\n",
       "      <td>2017-11-21</td>\n",
       "      <td>AfD</td>\n",
       "      <td>0.148448</td>\n",
       "      <td>0.775312</td>\n",
       "      <td>0.000473</td>\n",
       "      <td>0.000473</td>\n",
       "      <td>0.000473</td>\n",
       "      <td>0.073402</td>\n",
       "      <td>0.000473</td>\n",
       "      <td>0.000473</td>\n",
       "      <td>0.000473</td>\n",
       "    </tr>\n",
       "  </tbody>\n",
       "</table>\n",
       "</div>"
      ],
      "text/plain": [
       "               Unnamed: 0       date                  party    Topic0  \\\n",
       "id                                                                      \n",
       "DE-0190001007           0 2017-10-24              DIE LINKE  0.000540   \n",
       "DE-0190001008           1 2017-10-24                CDU/CSU  0.000505   \n",
       "DE-0190001010           2 2017-10-24  BÜNDNIS 90/DIE GRÜNEN  0.000520   \n",
       "DE-0190002005           3 2017-11-21                CDU/CSU  0.000678   \n",
       "DE-0190002015           4 2017-11-21                    AfD  0.148448   \n",
       "\n",
       "                 Topic1    Topic2    Topic3    Topic4    Topic5    Topic6  \\\n",
       "id                                                                          \n",
       "DE-0190001007  0.072428  0.000540  0.000540  0.723960  0.182041  0.018873   \n",
       "DE-0190001008  0.000505  0.029021  0.000505  0.967441  0.000505  0.000505   \n",
       "DE-0190001010  0.000519  0.028013  0.000519  0.968350  0.000520  0.000520   \n",
       "DE-0190002005  0.069938  0.000678  0.000678  0.925317  0.000678  0.000678   \n",
       "DE-0190002015  0.775312  0.000473  0.000473  0.000473  0.073402  0.000473   \n",
       "\n",
       "                 Topic7    Topic8  \n",
       "id                                 \n",
       "DE-0190001007  0.000540  0.000540  \n",
       "DE-0190001008  0.000506  0.000505  \n",
       "DE-0190001010  0.000519  0.000519  \n",
       "DE-0190002005  0.000678  0.000678  \n",
       "DE-0190002015  0.000473  0.000473  "
      ]
     },
     "execution_count": 2,
     "metadata": {},
     "output_type": "execute_result"
    }
   ],
   "source": [
    "df = pd.read_csv('transformed_data.csv', index_col='id', parse_dates=['date'])\n",
    "df.head()"
   ]
  },
  {
   "cell_type": "code",
   "execution_count": 3,
   "id": "fb4329d3-313b-4842-a352-49b55718e2aa",
   "metadata": {},
   "outputs": [],
   "source": [
    "df.drop(columns=['Unnamed: 0'], inplace=True)\n",
    "df.sort_values(by='date', inplace=True)"
   ]
  },
  {
   "cell_type": "markdown",
   "id": "a4a19520-2f86-488a-95cb-1d6285b9e976",
   "metadata": {},
   "source": [
    "## Summary statistics"
   ]
  },
  {
   "cell_type": "code",
   "execution_count": 4,
   "id": "c47346bc-ea74-4855-b648-31b602644a0a",
   "metadata": {},
   "outputs": [
    {
     "data": {
      "text/plain": [
       "CDU/CSU                  2101\n",
       "SPD                      1547\n",
       "AfD                      1285\n",
       "BÜNDNIS 90/DIE GRÜNEN    1188\n",
       "FDP                      1186\n",
       "DIE LINKE                1163\n",
       "Name: party, dtype: int64"
      ]
     },
     "execution_count": 4,
     "metadata": {},
     "output_type": "execute_result"
    }
   ],
   "source": [
    "df['party'].value_counts()"
   ]
  },
  {
   "cell_type": "code",
   "execution_count": 5,
   "id": "44730812-6d95-40b7-a167-53e2ee310297",
   "metadata": {},
   "outputs": [
    {
     "data": {
      "text/plain": [
       "party\n",
       "AfD                      198\n",
       "BÜNDNIS 90/DIE GRÜNEN    193\n",
       "CDU/CSU                  203\n",
       "DIE LINKE                190\n",
       "FDP                      189\n",
       "SPD                      195\n",
       "Name: date, dtype: int64"
      ]
     },
     "execution_count": 5,
     "metadata": {},
     "output_type": "execute_result"
    }
   ],
   "source": [
    "df[['date', 'party']].groupby('party')['date'].nunique()"
   ]
  },
  {
   "cell_type": "code",
   "execution_count": 6,
   "id": "f2351d6d-b773-46c4-bcb7-e18213fb34f2",
   "metadata": {},
   "outputs": [
    {
     "data": {
      "text/plain": [
       "207"
      ]
     },
     "execution_count": 6,
     "metadata": {},
     "output_type": "execute_result"
    }
   ],
   "source": [
    "df['date'].nunique()"
   ]
  },
  {
   "cell_type": "markdown",
   "id": "871f8bec-d6c1-48fb-91a2-08f318580264",
   "metadata": {},
   "source": [
    "## Topics"
   ]
  },
  {
   "cell_type": "code",
   "execution_count": null,
   "id": "b6c87373-b02d-4e37-a93b-3dafa7f76b5a",
   "metadata": {},
   "outputs": [],
   "source": [
    "from pdf2image import convert_from_path\n",
    "img = convert_from_path('topics_words.pdf', 500)[0]\n",
    "fig, ax = plt.subplots(figsize=(15, 10))\n",
    "ax.imshow(img)"
   ]
  },
  {
   "cell_type": "code",
   "execution_count": null,
   "id": "757b18df-7b7d-4728-b153-d77b4bde5f00",
   "metadata": {},
   "outputs": [],
   "source": [
    "columns_mapper = {\n",
    "    'Topic0': 'International',\n",
    "    'Topic1': 'Military',\n",
    "    'Topic2': 'EU/Economy',\n",
    "    'Topic3': 'Social',\n",
    "    'Topic4': 'Decisions/Law',\n",
    "    'Topic5': 'Democracy/Freedom',\n",
    "    'Topic6': 'German History',\n",
    "    'Topic7': 'Ecology',\n",
    "    'Topic8': 'Health/Pandemic',\n",
    "}"
   ]
  },
  {
   "cell_type": "code",
   "execution_count": null,
   "id": "f7aa7003-a9f0-4d41-bc50-bffd74cab466",
   "metadata": {},
   "outputs": [],
   "source": [
    "df.rename(columns=columns_mapper, inplace=True)"
   ]
  },
  {
   "cell_type": "code",
   "execution_count": null,
   "id": "8a72a955-e704-4177-b042-742c159756f4",
   "metadata": {},
   "outputs": [],
   "source": [
    "df.describe()"
   ]
  },
  {
   "cell_type": "markdown",
   "id": "4f90eaec-80e9-42d7-a053-865e141b5e92",
   "metadata": {
    "tags": []
   },
   "source": [
    "## Grouped parties"
   ]
  },
  {
   "cell_type": "code",
   "execution_count": null,
   "id": "1f9afe65-46b7-44d8-a28e-9bebcea938de",
   "metadata": {},
   "outputs": [],
   "source": [
    "grouped_df = df.groupby('date').mean()"
   ]
  },
  {
   "cell_type": "code",
   "execution_count": null,
   "id": "9f4d659f-cd74-4e85-9b05-fd58bf70bc7a",
   "metadata": {},
   "outputs": [],
   "source": [
    "n_topics = len(grouped_df.columns)"
   ]
  },
  {
   "cell_type": "code",
   "execution_count": null,
   "id": "1da76107-58f1-4e1c-bae1-7870857c130f",
   "metadata": {},
   "outputs": [],
   "source": [
    "n_days = 30\n",
    "rolling_df = grouped_df.rolling(n_days).mean().tail(-n_days)"
   ]
  },
  {
   "cell_type": "code",
   "execution_count": null,
   "id": "29f97539-f0e2-4868-93ec-0750dbe29e37",
   "metadata": {},
   "outputs": [],
   "source": [
    "rolling_df"
   ]
  },
  {
   "cell_type": "code",
   "execution_count": null,
   "id": "adcc4ce6",
   "metadata": {},
   "outputs": [],
   "source": [
    "fig, ax = plt.subplots(figsize=(30, 10))\n",
    "\n",
    "for topic_col in rolling_df.columns:\n",
    "    ax.plot(rolling_df.index.values, rolling_df[topic_col].values, label=topic_col)\n",
    "ax.legend()"
   ]
  },
  {
   "cell_type": "code",
   "execution_count": null,
   "id": "e55eaed7",
   "metadata": {},
   "outputs": [],
   "source": [
    "#plotting commulative stacked area plots\n",
    "y=[]\n",
    "topics=[]\n",
    "for idx, topic_col in enumerate(rolling_df.columns):\n",
    "    y.append(None)\n",
    "    topics.append(topic_col)\n",
    "    y[idx] = rolling_df[topic_col].values\n",
    "y = np.vstack([y])    "
   ]
  },
  {
   "cell_type": "code",
   "execution_count": null,
   "id": "8d24277c-2ea8-4def-bbbd-c48fc4ee398b",
   "metadata": {
    "scrolled": false
   },
   "outputs": [],
   "source": [
    "fig, ax = plt.subplots(figsize=(30, 10))\n",
    "ax.stackplot(rolling_df.index.values, y, labels=topics)\n",
    "ax.legend(loc='upper left')"
   ]
  },
  {
   "cell_type": "code",
   "execution_count": null,
   "id": "b0c3b6b7",
   "metadata": {},
   "outputs": [],
   "source": [
    "#to plot just a few topics (better to see the behavior of individual topics to each other)\n",
    "y=[]\n",
    "topics=[]\n",
    "topic_cols=['International', 'Health/Pandemic']\n",
    "        \n",
    "for idx, topic_col in enumerate(topic_cols):\n",
    "    y.append(None)\n",
    "    topics.append(topic_col)\n",
    "    y[idx] = rolling_df[topic_col].values\n",
    "\n",
    "y = np.vstack([y])    \n",
    "\n",
    "fig, ax = plt.subplots(figsize=(30, 10))\n",
    "ax.stackplot(rolling_df.index.values, y, labels=topics)\n",
    "ax.legend(loc='upper left')"
   ]
  },
  {
   "cell_type": "code",
   "execution_count": null,
   "id": "61bf5192-7743-4ea6-8d24-852b0f49d397",
   "metadata": {},
   "outputs": [],
   "source": [
    "fig, ax = plt.subplots(figsize=(30, 10))\n",
    "\n",
    "ax.plot(rolling_df.index.values, rolling_df['Health/Pandemic'].values)\n",
    "ax.legend()"
   ]
  },
  {
   "cell_type": "markdown",
   "id": "238e3676-0222-48b6-ae9f-d4cdd7f91c46",
   "metadata": {
    "tags": []
   },
   "source": [
    "## Parties differences"
   ]
  },
  {
   "cell_type": "code",
   "execution_count": null,
   "id": "79acaf98-19ab-47ef-98b8-c8195fdcc62d",
   "metadata": {},
   "outputs": [],
   "source": [
    "df.groupby('party').mean()"
   ]
  },
  {
   "cell_type": "code",
   "execution_count": null,
   "id": "956e2623-766c-4f8e-936c-94572bc2ce0d",
   "metadata": {},
   "outputs": [],
   "source": [
    "df.groupby('party').agg(['mean', 'std', 'median'])"
   ]
  },
  {
   "cell_type": "code",
   "execution_count": null,
   "id": "8c3a4716-6c21-4849-929e-238a60ca2710",
   "metadata": {},
   "outputs": [],
   "source": [
    "from sklearn.decomposition import PCA\n",
    "\n",
    "X = df.groupby('party').mean().to_numpy()\n",
    "pca = PCA(n_components=2)\n",
    "X_r = pca.fit_transform(X)\n",
    "\n",
    "fig, ax = plt.subplots()\n",
    "\n",
    "for party, x_r in zip(df.groupby('party').mean().index, X_r):\n",
    "    ax.scatter(-x_r[1], x_r[0], label=party,)\n",
    "ax.legend()\n",
    "ax.set_xlabel('\"left -> right\"')\n",
    "ax.set_ylabel('\"liberal -> authoritarian\"')\n",
    "ax.set_title(\"PCA of parties' topics\")"
   ]
  },
  {
   "cell_type": "code",
   "execution_count": null,
   "id": "33d11454-66bd-4093-b5e4-645c96b71cab",
   "metadata": {},
   "outputs": [],
   "source": [
    "axis0 = [list(columns_mapper.values())[i] for i in np.argsort(np.abs(pca.components_[0]))[::-1]]\n",
    "axis1= [list(columns_mapper.values())[i] for i in np.argsort(np.abs(pca.components_[1]))[::-1]]"
   ]
  },
  {
   "cell_type": "code",
   "execution_count": null,
   "id": "613a66ed-c6b7-40c0-a7b3-0100dfd702f0",
   "metadata": {},
   "outputs": [],
   "source": [
    "axis0"
   ]
  },
  {
   "cell_type": "code",
   "execution_count": null,
   "id": "a3799afc-6880-4e12-9d78-8f33d8d24297",
   "metadata": {},
   "outputs": [],
   "source": [
    "axis1"
   ]
  },
  {
   "cell_type": "code",
   "execution_count": null,
   "id": "79b5fdf6-8d59-4e14-b192-1b37433ac2d8",
   "metadata": {
    "scrolled": false
   },
   "outputs": [],
   "source": [
    "fig, ax = plt.subplots(9, figsize=(30, 100))\n",
    "#parties = df['party'].unique()\n",
    "parties = ['AfD']\n",
    "\n",
    "n_days = 50\n",
    "\n",
    "for topic_col, axis in zip(columns_mapper.values(), ax):\n",
    "    for party in parties:\n",
    "        data = df[df['party'] == party]\n",
    "        axis.plot(\n",
    "            data['date'].unique()[n_days:],\n",
    "            data.groupby('date').mean()[topic_col].rolling(n_days).mean().tail(-n_days),\n",
    "            label=party)\n",
    "    axis.legend()\n",
    "    axis.set_title(topic_col)"
   ]
  }
 ],
 "metadata": {
  "interpreter": {
   "hash": "62b8e38797574a9de3c3f9bc79729bb88e3b9c6776c95587f79be5c56a9bdc90"
  },
  "kernelspec": {
   "display_name": "Python 3 (ipykernel)",
   "language": "python",
   "name": "python3"
  },
  "language_info": {
   "codemirror_mode": {
    "name": "ipython",
    "version": 3
   },
   "file_extension": ".py",
   "mimetype": "text/x-python",
   "name": "python",
   "nbconvert_exporter": "python",
   "pygments_lexer": "ipython3",
   "version": "3.10.1"
  }
 },
 "nbformat": 4,
 "nbformat_minor": 5
}
